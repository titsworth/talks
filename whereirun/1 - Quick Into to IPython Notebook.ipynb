{
 "metadata": {
  "name": "",
  "signature": "sha256:be611d618468bf2a8e8a9bf6f2a51eef7ba93269d8ad148830a954792a236045"
 },
 "nbformat": 3,
 "nbformat_minor": 0,
 "worksheets": [
  {
   "cells": [
    {
     "cell_type": "markdown",
     "metadata": {},
     "source": [
      "# IPython Notebook\n",
      "\n",
      "The IPython Notebook provides an incredible way to work with Python. For scientific projects, it has become my primary tool. \n",
      "\n",
      "IPython brings together\n",
      "\n",
      "* Code development\n",
      "* Code execution\n",
      "* Documentation\n",
      "* Visualization\n",
      "* Rich Display Environment\n",
      "* Reporting\n",
      "\n",
      "all in one simple interface.\n",
      "\n",
      "# Key Features\n",
      "\n",
      "IPython comes with some features that make it extremely powerful, especially when compared to the standard Pyhton shell.\n",
      "\n",
      "* **Interactive code editing**\n",
      "    * Syntax Highlighting\n",
      "    * Tab Completion/Introspection\n",
      "    * Easy code help\n",
      "* **Code Execution**\n",
      "    * Results attached to the code that was executed\n",
      "    * Input/Output stored and saved with notebook\n",
      "    * \"Magic\" functions for performing common tasks (timing, profiling, etc.)\n",
      "    * Easy command line execution with results stored in python list\n",
      "* **In-line Structured Documentation**\n",
      "    * Markdown processor (that's what this is)\n",
      "* **Rich Displays and Media**\n",
      "    * Built in support for multiple types (HTML, LaTeX, PNG, SVG, etc.)\n",
      "    * Custom representations for common Python Objects (e.g. Pandas Dataframe)\n",
      "* **And more!**"
     ]
    },
    {
     "cell_type": "markdown",
     "metadata": {},
     "source": [
      "# Code Editing and Execution\n",
      "\n",
      "Let's look at some python code! (and then execute it)"
     ]
    },
    {
     "cell_type": "code",
     "collapsed": false,
     "input": [
      "print(\"Hello world!\")"
     ],
     "language": "python",
     "metadata": {},
     "outputs": []
    },
    {
     "cell_type": "markdown",
     "metadata": {},
     "source": [
      "Functions work as well!"
     ]
    },
    {
     "cell_type": "code",
     "collapsed": false,
     "input": [
      "def hello(what):\n",
      "    '''\n",
      "    Prints Hello to something!\n",
      "    '''\n",
      "    print(\"Hello \" + what + \"!\")\n",
      "\n",
      "hello(\"hsv.py\")"
     ],
     "language": "python",
     "metadata": {},
     "outputs": []
    },
    {
     "cell_type": "markdown",
     "metadata": {},
     "source": [
      "It also persists through cells."
     ]
    },
    {
     "cell_type": "code",
     "collapsed": false,
     "input": [
      "hello(\"hsv.py... again\")"
     ],
     "language": "python",
     "metadata": {},
     "outputs": []
    },
    {
     "cell_type": "markdown",
     "metadata": {},
     "source": [
      "You can get help as well by using the `?` symbol."
     ]
    },
    {
     "cell_type": "code",
     "collapsed": false,
     "input": [
      "hello?"
     ],
     "language": "python",
     "metadata": {},
     "outputs": []
    },
    {
     "cell_type": "markdown",
     "metadata": {},
     "source": [
      "**The output is also asyncronous.**"
     ]
    },
    {
     "cell_type": "code",
     "collapsed": false,
     "input": [
      "fib = lambda n:reduce(lambda x,n:[x[1],x[0]+x[1]], range(n),[0,1])[0]"
     ],
     "language": "python",
     "metadata": {},
     "outputs": []
    },
    {
     "cell_type": "code",
     "collapsed": false,
     "input": [
      "import time\n",
      "for i in range(10):\n",
      "    print(fib(i))\n",
      "    time.sleep(.5)"
     ],
     "language": "python",
     "metadata": {},
     "outputs": []
    },
    {
     "cell_type": "markdown",
     "metadata": {},
     "source": [
      "And pretty smart"
     ]
    },
    {
     "cell_type": "code",
     "collapsed": false,
     "input": [
      "for i in range(200):\n",
      "    print(fib(i))"
     ],
     "language": "python",
     "metadata": {},
     "outputs": []
    },
    {
     "cell_type": "markdown",
     "metadata": {},
     "source": [
      "### Let's look at some variables"
     ]
    },
    {
     "cell_type": "code",
     "collapsed": false,
     "input": [
      "x = 1\n",
      "y = 2\n",
      "\n",
      "x + y"
     ],
     "language": "python",
     "metadata": {},
     "outputs": []
    },
    {
     "cell_type": "code",
     "collapsed": false,
     "input": [
      "_ * 3"
     ],
     "language": "python",
     "metadata": {},
     "outputs": []
    },
    {
     "cell_type": "code",
     "collapsed": false,
     "input": [
      "Out"
     ],
     "language": "python",
     "metadata": {},
     "outputs": []
    },
    {
     "cell_type": "code",
     "collapsed": false,
     "input": [
      "In"
     ],
     "language": "python",
     "metadata": {},
     "outputs": []
    },
    {
     "cell_type": "markdown",
     "metadata": {},
     "source": [
      "## Don't forget about magics"
     ]
    },
    {
     "cell_type": "code",
     "collapsed": false,
     "input": [
      "%lsmagic"
     ],
     "language": "python",
     "metadata": {},
     "outputs": []
    },
    {
     "cell_type": "code",
     "collapsed": false,
     "input": [
      "%ls"
     ],
     "language": "python",
     "metadata": {},
     "outputs": []
    },
    {
     "cell_type": "code",
     "collapsed": false,
     "input": [
      "%whos"
     ],
     "language": "python",
     "metadata": {},
     "outputs": []
    },
    {
     "cell_type": "code",
     "collapsed": false,
     "input": [
      "%timeit fib(100)"
     ],
     "language": "python",
     "metadata": {},
     "outputs": []
    },
    {
     "cell_type": "code",
     "collapsed": false,
     "input": [
      "%run some_python_script.py"
     ],
     "language": "python",
     "metadata": {},
     "outputs": []
    },
    {
     "cell_type": "markdown",
     "metadata": {},
     "source": [
      "# Structured Documentation\n",
      "Of course you have already seen some Markdown.\n",
      "\n",
      "## You can\n",
      "### have multiple\n",
      "#### header styles\n",
      "\n",
      "* And\n",
      "* Lists\n",
      "\n",
      "Block quotes also look nice:\n",
      "\n",
      "> Why Thank you!\n",
      "\n",
      "More IPython Markdown examples can be found [here](http://nbviewer.ipython.org/github/ipython/ipython/blob/master/examples/notebooks/Part%204%20-%20Markdown%20Cells.ipynb) and Markdown syntax can be found [here](http://daringfireball.net/projects/markdown/basics)\n",
      "\n",
      "# Rich Display\n",
      "\n",
      "Instead of demonstrating the Rich Display capabilities of IPython, I'll use IPythons's Rich Display capabilities to show a [website](http://nbviewer.ipython.org/github/ipython/ipython/blob/master/examples/notebooks/Part%205%20-%20Rich%20Display%20System.ipynb) highlighing IPython's Rish Display capabilities! #meta"
     ]
    },
    {
     "cell_type": "code",
     "collapsed": false,
     "input": [
      "from IPython.display import IFrame\n",
      "IFrame('http://nbviewer.ipython.org/github/ipython/ipython/blob/master/examples/notebooks/Part%205%20-%20Rich%20Display%20System.ipynb', \n",
      "       width=800, height=350)"
     ],
     "language": "python",
     "metadata": {},
     "outputs": []
    }
   ],
   "metadata": {}
  }
 ]
}