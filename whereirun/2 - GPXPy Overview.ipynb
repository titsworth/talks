{
 "metadata": {
  "name": "",
  "signature": "sha256:42c0889bd1922937fec8a8f5a8e63f454196781da1d64587eff26e846cfbfc22"
 },
 "nbformat": 3,
 "nbformat_minor": 0,
 "worksheets": [
  {
   "cells": [
    {
     "cell_type": "markdown",
     "metadata": {},
     "source": [
      "#GPX PY Overview\n",
      "\n",
      "The gpxpy package provides a bunch of great tools for parsing, correcting, and manipulating GPX files. It also has some nice analysis capabilities built into it. You can get a few valuable metrics about your run/bike right out of the box. These include\n",
      "\n",
      "  * Length of a run\n",
      "  * Min and max elevation of a run\n",
      "  * Duration of run\n",
      "  * Max speed\n",
      "  \n",
      "Let's start by importing package of course! We'll also go ahead and import other packages that will be used in this notebook."
     ]
    },
    {
     "cell_type": "code",
     "collapsed": false,
     "input": [
      "import gpxpy\n",
      "import gpxpy.gpx\n",
      "\n",
      "import glob\n",
      "import os\n",
      "import datetime\n",
      "import pandas as pd\n",
      "import matplotlib.pyplot as plt\n",
      "\n",
      "%matplotlib inline"
     ],
     "language": "python",
     "metadata": {},
     "outputs": []
    },
    {
     "cell_type": "markdown",
     "metadata": {},
     "source": [
      "# A Quick Look at the GPX format\n",
      "\n",
      "Before we really get started, we shoul probably see what the GPX format is.\n",
      "\n",
      "Let's load up the first file in our data set and look at it's contents."
     ]
    },
    {
     "cell_type": "code",
     "collapsed": false,
     "input": [
      "gpx_files = glob.glob(os.path.join(\"rundata\",\"*.gpx\"))\n",
      "%cat ./${os.path.join(\"rundata\",gpx_files[0])}"
     ],
     "language": "python",
     "metadata": {},
     "outputs": []
    },
    {
     "cell_type": "markdown",
     "metadata": {},
     "source": [
      "## gpxpy's Representation\n",
      "Now let's see what gpxpy does with the data"
     ]
    },
    {
     "cell_type": "code",
     "collapsed": false,
     "input": [
      "gpx = gpxpy.parse(open(gpx_files[97]))\n",
      "gpx"
     ],
     "language": "python",
     "metadata": {},
     "outputs": []
    },
    {
     "cell_type": "markdown",
     "metadata": {},
     "source": [
      "You can see what functions are available using IPython's tab completion."
     ]
    },
    {
     "cell_type": "code",
     "collapsed": false,
     "input": [
      "gpx.tracks"
     ],
     "language": "python",
     "metadata": {},
     "outputs": []
    },
    {
     "cell_type": "markdown",
     "metadata": {},
     "source": [
      "Let's look at the track data"
     ]
    },
    {
     "cell_type": "code",
     "collapsed": false,
     "input": [
      "gpx_track = gpx.tracks[0]\n",
      "gpx_track"
     ],
     "language": "python",
     "metadata": {},
     "outputs": []
    },
    {
     "cell_type": "markdown",
     "metadata": {},
     "source": [
      "### Track Summary\n",
      "Some information on this track"
     ]
    },
    {
     "cell_type": "code",
     "collapsed": false,
     "input": [
      "print(\"Name: \" + gpx_track.name)\n",
      "print(\"Description: \" + str(gpx_track.description))\n",
      "print(\"Start: \" + str(gpx_track.get_time_bounds().start_time.isoformat()))\n",
      "print(\"End: \" + str(gpx_track.get_time_bounds().end_time))\n",
      " \n",
      "bounds = gpx_track.get_bounds()\n",
      "print(\"Latitude Bounds: (%f, %f)\" % (bounds.min_latitude, bounds.max_latitude))\n",
      "print(\"Longitude Bounds: (%f, %f)\" % (bounds.min_longitude, bounds.max_longitude))"
     ],
     "language": "python",
     "metadata": {},
     "outputs": []
    },
    {
     "cell_type": "markdown",
     "metadata": {},
     "source": [
      "### Run Duration\n",
      "Duration returned in seconds."
     ]
    },
    {
     "cell_type": "code",
     "collapsed": false,
     "input": [
      "gpx_track.get_duration()*1./60"
     ],
     "language": "python",
     "metadata": {},
     "outputs": []
    },
    {
     "cell_type": "markdown",
     "metadata": {},
     "source": [
      "### Run Distance\n",
      "What wat the length of the run?\n",
      "Length returned in meters. 2d and 3d distance is available."
     ]
    },
    {
     "cell_type": "code",
     "collapsed": false,
     "input": [
      "gpx_track.length_2d()"
     ],
     "language": "python",
     "metadata": {},
     "outputs": []
    },
    {
     "cell_type": "code",
     "collapsed": false,
     "input": [
      "gpx_track.length_3d()"
     ],
     "language": "python",
     "metadata": {},
     "outputs": []
    },
    {
     "cell_type": "markdown",
     "metadata": {},
     "source": [
      "###Quick Visualization"
     ]
    },
    {
     "cell_type": "code",
     "collapsed": false,
     "input": [
      "track_coords = [[point.latitude,point.longitude, point.elevation] \n",
      "                                for track in gpx.tracks \n",
      "                                    for segment in track.segments \n",
      "                                        for point in segment.points]\n",
      " \n",
      "coords_df = pd.DataFrame(track_coords, columns=['Latitude','Longitude','Altitude'])\n",
      " \n",
      "fig = plt.figure(figsize=(12,9))\n",
      "coords_df.plot('Longitude','Latitude', color='#A00084', linewidth=1.5)"
     ],
     "language": "python",
     "metadata": {},
     "outputs": []
    }
   ],
   "metadata": {}
  }
 ]
}