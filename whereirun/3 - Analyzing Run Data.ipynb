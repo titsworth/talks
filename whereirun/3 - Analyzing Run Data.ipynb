{
 "metadata": {
  "name": "",
  "signature": "sha256:1ce345d96ac09d360369fc8c39b231aa5021bc9a5e4a4ac54815a61d5656197e"
 },
 "nbformat": 3,
 "nbformat_minor": 0,
 "worksheets": [
  {
   "cells": [
    {
     "cell_type": "markdown",
     "metadata": {},
     "source": [
      "#Analyzing lots of run data\n",
      "\n",
      "Looking at data from one run is pretty cool, but most of the information we have seen so far is the same as you would get by looking at your basic stats on Runkeeper or Garmin. We can get some better insights by looking at a large amount of run data. So let's load in as much data as possible to see what we can find out."
     ]
    },
    {
     "cell_type": "code",
     "collapsed": false,
     "input": [
      "import pandas as pd\n",
      "import matplotlib.pyplot as plt\n",
      "import glob\n",
      "import gpxpy\n",
      "import gpxpy.gpx\n",
      "import os\n",
      "import seaborn as sb\n",
      "\n",
      "%matplotlib inline"
     ],
     "language": "python",
     "metadata": {},
     "outputs": []
    },
    {
     "cell_type": "code",
     "collapsed": false,
     "input": [
      "def load_run_data(gpx_path, filter=\"\"):\n",
      "\n",
      "    # List all of the GPX files in the path\n",
      "    gpx_files = glob.glob(os.path.join(gpx_path,filter+\"*.gpx\"))\n",
      "    \n",
      "    run_data = []\n",
      "    \n",
      "    # Loop through the files\n",
      "    for file_idx, gpx_file in enumerate(gpx_files): \n",
      "        # Parse the GPX File\n",
      "        try:\n",
      "            gpx = gpxpy.parse(open(gpx_file, 'r'))\n",
      "        except: \n",
      "            # Runkeeper often leaves off some XML tags causing an ivalid file.\n",
      "            # This can be fixed, but for the purpose of this talk, lets just \n",
      "            # remove the file from the data set.\n",
      "            os.remove(gpx_file)\n",
      "            continue\n",
      "            \n",
      "        # Loop through tracks\n",
      "        for track_idx, track in enumerate(gpx.tracks):\n",
      "            track_name = track.name\n",
      "            track_time = track.get_time_bounds().start_time\n",
      "            track_length = track.length_3d()\n",
      "            track_duration = track.get_duration()\n",
      "            track_speed = track.get_moving_data().max_speed\n",
      "            \n",
      "            for seg_idx, segment in enumerate(track.segments):\n",
      "                \n",
      "                segment_length = segment.length_3d()\n",
      "                \n",
      "                for point_idx, point in enumerate(segment.points):\n",
      "                    \n",
      "                    run_data.append([file_idx, os.path.basename(gpx_file), track_idx, track_name, \n",
      "                                     track_time, track_length, track_duration, track_speed, \n",
      "                                     seg_idx, segment_length, point.time, point.latitude, \n",
      "                                     point.longitude, point.elevation, segment.get_speed(point_idx)])\n",
      "                                \n",
      "            \n",
      "        #run_data_tmp = [[file_idx, gpx_file, track_idx, track.name, track.number,\n",
      "        #                 track.length_3d(), seg_idx, segment.length_3d(), point.time,\n",
      "        #                 point.latitude,point.longitude, point.elevation, point.speed] \n",
      "        #                    for track_idx, track in enumerate(gpx.tracks) \n",
      "        #                        for seg_idx, segment in enumerate(track.segments) \n",
      "        #                            for point in segment.points]\n",
      "        #run_data += run_data_tmp\n",
      "        \n",
      "    return run_data\n",
      "\n",
      "run_data = load_run_data(\"rundata\")"
     ],
     "language": "python",
     "metadata": {},
     "outputs": []
    },
    {
     "cell_type": "markdown",
     "metadata": {},
     "source": [
      "## Build a DataFrame\n",
      "\n",
      "In this case, we just looped trhough all of the run data and built up a giant two diensional list of data. We can now load that data into a Pandas DataFrame so we can easily sort, filter, group, etc.\n"
     ]
    },
    {
     "cell_type": "code",
     "collapsed": false,
     "input": [
      "run_data_df = pd.DataFrame(run_data, columns=['File_Index', 'File_Name', 'Track_Index', 'Track_Name', \n",
      "                                              'Track_Time', 'Track_Length', 'Track_Duration', 'Track_Max_Speed', \n",
      "                                              'Segment_Index', 'Segment_Length', 'Point_Time', 'Point_Latitude', \n",
      "                                              'Point_Longitude', 'Point_Elevation', 'Point_Speed'])\n",
      "run_data_df.head()"
     ],
     "language": "python",
     "metadata": {},
     "outputs": []
    },
    {
     "cell_type": "markdown",
     "metadata": {},
     "source": [
      "Pandas does a great job of detecting the data type of each column automatically. You can see the data type of each column below."
     ]
    },
    {
     "cell_type": "code",
     "collapsed": false,
     "input": [
      "run_data_df.dtypes"
     ],
     "language": "python",
     "metadata": {},
     "outputs": []
    },
    {
     "cell_type": "markdown",
     "metadata": {},
     "source": [
      "## A monthly look at runs\n",
      "\n",
      "Let's look at some summary statistics about our run data month to month."
     ]
    },
    {
     "cell_type": "code",
     "collapsed": false,
     "input": [
      "# Filter Data Frame to just track specific information\n",
      "run_data_df_tracks = run_data_df[['File_Index', 'File_Name', 'Track_Index', 'Track_Name', 'Track_Time', 'Track_Length', 'Track_Duration', 'Track_Max_Speed']].copy()\n",
      "\n",
      "# Drop duplicates to get rid of repeated track information that is\n",
      "# lingering since we chopped off the segments and points\n",
      "run_data_df_tracks.drop_duplicates(inplace=True)\n",
      "\n",
      "run_data_df_tracks.head()"
     ],
     "language": "python",
     "metadata": {},
     "outputs": []
    },
    {
     "cell_type": "markdown",
     "metadata": {},
     "source": [
      "We can look at summary stats for all of our data by grouping the data by year and month"
     ]
    },
    {
     "cell_type": "code",
     "collapsed": false,
     "input": [
      "# Add Track Year and Month columns based on track time\n",
      "run_data_df_tracks['Track_Year'] = run_data_df_tracks['Track_Time'].apply(lambda x: x.year)\n",
      "run_data_df_tracks['Track_Month'] = run_data_df_tracks['Track_Time'].apply(lambda x: x.month)\n",
      "tracks_grouped = run_data_df_tracks.groupby(['Track_Year','Track_Month'])\n",
      "tracks_grouped.describe()"
     ],
     "language": "python",
     "metadata": {},
     "outputs": []
    },
    {
     "cell_type": "markdown",
     "metadata": {},
     "source": [
      "###Total Distance Per Month\n",
      "Let's use some of pandas buit in plot capabilities to view our total distance from month to month."
     ]
    },
    {
     "cell_type": "code",
     "collapsed": false,
     "input": [
      "tracks_grouped = run_data_df_tracks.groupby(['Track_Year','Track_Month'])\n",
      "tracks_grouped['Track_Length'].sum().plot(kind='bar', figsize=(15,5))\n",
      "plt.xticks(rotation=70)\n",
      "plt.ylabel('Distance (meters)')"
     ],
     "language": "python",
     "metadata": {},
     "outputs": []
    },
    {
     "cell_type": "markdown",
     "metadata": {},
     "source": [
      "#Let's Interact!\n",
      "\n",
      "With IPython 2.0, you can easily interact with the plot (assuming you set up an appropriate function). Let's set up a function to plot the total length ran during each day of a single month."
     ]
    },
    {
     "cell_type": "code",
     "collapsed": false,
     "input": [
      "def plot_run_lenth_per_month(year, month):\n",
      "    try:\n",
      "        focus_group = tracks_grouped.get_group((year, month))\n",
      "        focus_group = focus_group.set_index('Track_Time')\n",
      "    \n",
      "        focus_group.groupby(lambda x: x.day)['Track_Length'].sum().reindex(range(1,32)).plot(kind='bar', figsize=(15,5))\n",
      "    except:\n",
      "        print(\"No data\")"
     ],
     "language": "python",
     "metadata": {},
     "outputs": []
    },
    {
     "cell_type": "code",
     "collapsed": false,
     "input": [
      "from IPython.html.widgets.interaction import interactive\n",
      "interactive(plot_run_lenth_per_month, year=(2010,2014), month=(1,12))"
     ],
     "language": "python",
     "metadata": {},
     "outputs": []
    },
    {
     "cell_type": "markdown",
     "metadata": {},
     "source": [
      "### Distance Per Run Per Month\n",
      "What if we wanted to see the distribution of daily run lengths over all months... that's easy!"
     ]
    },
    {
     "cell_type": "code",
     "collapsed": false,
     "input": [
      "# Use Pandas built in box plot functionality\n",
      "run_data_df_tracks.boxplot(column='Track_Length', by=['Track_Year','Track_Month'], figsize=(15,5))\n",
      "\n",
      "ax = plt.gca()\n",
      "plt.xticks(rotation=70)\n",
      "plt.ylabel('Distance (meters)')"
     ],
     "language": "python",
     "metadata": {},
     "outputs": []
    },
    {
     "cell_type": "markdown",
     "metadata": {},
     "source": [
      "### More Plotting Goodies!\n",
      "\n",
      "Seaborn has some very nice statistical plotting caabilities built on top of matplotlib. Let's look at a box plot of each month's runs regardless of year to see what trends we find."
     ]
    },
    {
     "cell_type": "code",
     "collapsed": false,
     "input": [
      "fig = plt.figure(figsize=(15,6))\n",
      "sb.boxplot(run_data_df_tracks['Track_Length'], run_data_df_tracks['Track_Month'])"
     ],
     "language": "python",
     "metadata": {},
     "outputs": []
    },
    {
     "cell_type": "markdown",
     "metadata": {},
     "source": [
      "### Different view\n",
      "\n",
      "Seaborn comes with some cool options for viewing distributions. Let's see a violin plot."
     ]
    },
    {
     "cell_type": "code",
     "collapsed": false,
     "input": [
      "fig = plt.figure(figsize=(15,6))\n",
      "sb.violinplot(run_data_df_tracks['Track_Length'], run_data_df_tracks['Track_Month'], \"stick\", color=\"PRGn\")"
     ],
     "language": "python",
     "metadata": {},
     "outputs": []
    },
    {
     "cell_type": "code",
     "collapsed": false,
     "input": [],
     "language": "python",
     "metadata": {},
     "outputs": []
    }
   ],
   "metadata": {}
  }
 ]
}